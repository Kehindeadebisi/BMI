{
 "cells": [
  {
   "cell_type": "code",
   "execution_count": null,
   "metadata": {},
   "outputs": [],
   "source": [
    "def bmi(weight, height):\n",
    "    bmi = weight/height**2\n",
    "    if bmi < 18.5:\n",
    "        print('Underweight')\n",
    "    elif bmi >= 18.5 and bmi < 25:\n",
    "        print('Normal')\n",
    "    elif bmi >= 25 and bmi < 30:\n",
    "        print('Overweight')\n",
    "    elif bmi  >= 30:\n",
    "        print('Obesity')\n",
    "bmi( 34, 21)"
   ]
  }
 ],
 "metadata": {
  "language_info": {
   "name": "python"
  },
  "orig_nbformat": 4
 },
 "nbformat": 4,
 "nbformat_minor": 2
}
